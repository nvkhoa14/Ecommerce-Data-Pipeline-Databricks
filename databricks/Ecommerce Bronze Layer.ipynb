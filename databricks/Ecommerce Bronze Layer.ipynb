{
 "cells": [
  {
   "cell_type": "code",
   "execution_count": 0,
   "metadata": {
    "application/vnd.databricks.v1+cell": {
     "cellMetadata": {
      "byteLimit": 2048000,
      "rowLimit": 10000
     },
     "inputWidgets": {},
     "nuid": "0d3c3e6f-38ec-448a-b2c6-488ed8c70fec",
     "showTitle": false,
     "tableResultSettingsMap": {},
     "title": ""
    }
   },
   "outputs": [
    {
     "name": "stdout",
     "output_type": "stream",
     "text": [
      "/mnt/ecommerce is already mounted\n"
     ]
    }
   ],
   "source": [
    "configs = {\n",
    "  \"fs.azure.account.auth.type\": \"OAuth\",\n",
    "  \"fs.azure.account.oauth.provider.type\": \"org.apache.hadoop.fs.azurebfs.oauth2.ClientCredsTokenProvider\",\n",
    "  \"fs.azure.account.oauth2.client.id\": \"client-id\",\n",
    "  \"fs.azure.account.oauth2.client.secret\": \"secret-key\",\n",
    "  \"fs.azure.account.oauth2.client.endpoint\": \"https://login.microsoftonline.com/tenant-id/oauth2/token\"\n",
    "}\n",
    "\n",
    "mount_point = \"/mnt/ecommerce\"\n",
    "if any(mount.mountPoint == mount_point for mount in dbutils.fs.mounts()):\n",
    "    print(f\"{mount_point} is already mounted\")\n",
    "else:\n",
    "    dbutils.fs.mount(\n",
    "        source=\"abfss://landing-zone-2@ecommercemedal.dfs.core.windows.net/\",\n",
    "        mount_point=mount_point,\n",
    "        extra_configs=configs\n",
    "    )\n"
   ]
  },
  {
   "cell_type": "code",
   "execution_count": 0,
   "metadata": {
    "application/vnd.databricks.v1+cell": {
     "cellMetadata": {
      "byteLimit": 2048000,
      "rowLimit": 10000
     },
     "inputWidgets": {},
     "nuid": "d52f0972-8ad8-4ad9-b742-6c6a97cbe8dc",
     "showTitle": false,
     "tableResultSettingsMap": {},
     "title": ""
    }
   },
   "outputs": [
    {
     "data": {
      "text/html": [
       "<style scoped>\n",
       "  .table-result-container {\n",
       "    max-height: 300px;\n",
       "    overflow: auto;\n",
       "  }\n",
       "  table, th, td {\n",
       "    border: 1px solid black;\n",
       "    border-collapse: collapse;\n",
       "  }\n",
       "  th, td {\n",
       "    padding: 5px;\n",
       "  }\n",
       "  th {\n",
       "    text-align: left;\n",
       "  }\n",
       "</style><div class='table-result-container'><table class='table-result'><thead style='background-color: white'><tr><th>path</th><th>name</th><th>size</th><th>modificationTime</th></tr></thead><tbody><tr><td>dbfs:/mnt/ecommerce/buyers-raw-2/</td><td>buyers-raw-2/</td><td>0</td><td>1741745778000</td></tr><tr><td>dbfs:/mnt/ecommerce/countries-raw-2/</td><td>countries-raw-2/</td><td>0</td><td>1741745753000</td></tr><tr><td>dbfs:/mnt/ecommerce/sellers-raw-2/</td><td>sellers-raw-2/</td><td>0</td><td>1741745764000</td></tr><tr><td>dbfs:/mnt/ecommerce/users-raw-2/</td><td>users-raw-2/</td><td>0</td><td>1741745718000</td></tr></tbody></table></div>"
      ]
     },
     "metadata": {
      "application/vnd.databricks.v1+output": {
       "addedWidgets": {},
       "aggData": [],
       "aggError": "",
       "aggOverflow": false,
       "aggSchema": [],
       "aggSeriesLimitReached": false,
       "aggType": "",
       "arguments": {},
       "columnCustomDisplayInfos": {},
       "data": [
        [
         "dbfs:/mnt/ecommerce/buyers-raw-2/",
         "buyers-raw-2/",
         0,
         1741745778000
        ],
        [
         "dbfs:/mnt/ecommerce/countries-raw-2/",
         "countries-raw-2/",
         0,
         1741745753000
        ],
        [
         "dbfs:/mnt/ecommerce/sellers-raw-2/",
         "sellers-raw-2/",
         0,
         1741745764000
        ],
        [
         "dbfs:/mnt/ecommerce/users-raw-2/",
         "users-raw-2/",
         0,
         1741745718000
        ]
       ],
       "datasetInfos": [],
       "dbfsResultPath": null,
       "isJsonSchema": true,
       "metadata": {
        "isDbfsCommandResult": false
       },
       "overflow": false,
       "plotOptions": {
        "customPlotOptions": {},
        "displayType": "table",
        "pivotAggregation": null,
        "pivotColumns": null,
        "xColumns": null,
        "yColumns": null
       },
       "removedWidgets": [],
       "schema": [
        {
         "metadata": "{}",
         "name": "path",
         "type": "\"string\""
        },
        {
         "metadata": "{}",
         "name": "name",
         "type": "\"string\""
        },
        {
         "metadata": "{}",
         "name": "size",
         "type": "\"long\""
        },
        {
         "metadata": "{}",
         "name": "modificationTime",
         "type": "\"long\""
        }
       ],
       "type": "table"
      }
     },
     "output_type": "display_data"
    }
   ],
   "source": [
    "%fs ls \"mnt/ecommerce\""
   ]
  },
  {
   "cell_type": "code",
   "execution_count": 0,
   "metadata": {
    "application/vnd.databricks.v1+cell": {
     "cellMetadata": {
      "byteLimit": 2048000,
      "rowLimit": 10000
     },
     "inputWidgets": {},
     "nuid": "4c4dc11d-8b91-4e1b-8e35-76db35251e2f",
     "showTitle": false,
     "tableResultSettingsMap": {},
     "title": ""
    }
   },
   "outputs": [],
   "source": [
    "from pyspark.sql import SparkSession\n",
    "from pyspark.sql.functions import *\n",
    "from pyspark.sql.types import *"
   ]
  },
  {
   "cell_type": "code",
   "execution_count": 0,
   "metadata": {
    "application/vnd.databricks.v1+cell": {
     "cellMetadata": {
      "byteLimit": 2048000,
      "rowLimit": 10000
     },
     "inputWidgets": {},
     "nuid": "183d6a66-67ea-4ce1-894d-d60398da1e79",
     "showTitle": false,
     "tableResultSettingsMap": {},
     "title": ""
    }
   },
   "outputs": [],
   "source": [
    "spark = SparkSession.builder.appName(\"BronzeLayer\").getOrCreate()"
   ]
  },
  {
   "cell_type": "code",
   "execution_count": 0,
   "metadata": {
    "application/vnd.databricks.v1+cell": {
     "cellMetadata": {
      "byteLimit": 2048000,
      "rowLimit": 10000
     },
     "inputWidgets": {},
     "nuid": "3a15b2d0-2fab-4981-96bb-ed4c7f86395d",
     "showTitle": false,
     "tableResultSettingsMap": {},
     "title": ""
    }
   },
   "outputs": [
    {
     "data": {
      "text/html": [
       "\n",
       "            <div>\n",
       "                <p><b>SparkSession - hive</b></p>\n",
       "                \n",
       "        <div>\n",
       "            <p><b>SparkContext</b></p>\n",
       "\n",
       "            <p><a href=\"/?o=1310246676422196#setting/sparkui/0313-035640-1bs4yxwt/driver-4501861715143670377\">Spark UI</a></p>\n",
       "\n",
       "            <dl>\n",
       "              <dt>Version</dt>\n",
       "                <dd><code>v3.5.0</code></dd>\n",
       "              <dt>Master</dt>\n",
       "                <dd><code>local[*, 4]</code></dd>\n",
       "              <dt>AppName</dt>\n",
       "                <dd><code>Databricks Shell</code></dd>\n",
       "            </dl>\n",
       "        </div>\n",
       "        \n",
       "            </div>\n",
       "        "
      ],
      "text/plain": [
       "<pyspark.sql.session.SparkSession at 0x7fa750347f10>"
      ]
     },
     "execution_count": 6,
     "metadata": {},
     "output_type": "execute_result"
    }
   ],
   "source": [
    "spark"
   ]
  },
  {
   "cell_type": "markdown",
   "metadata": {
    "application/vnd.databricks.v1+cell": {
     "cellMetadata": {},
     "inputWidgets": {},
     "nuid": "09256ee8-7004-471d-a2dc-4fbc1c1c121c",
     "showTitle": false,
     "tableResultSettingsMap": {},
     "title": ""
    }
   },
   "source": [
    "## User"
   ]
  },
  {
   "cell_type": "code",
   "execution_count": 0,
   "metadata": {
    "application/vnd.databricks.v1+cell": {
     "cellMetadata": {
      "byteLimit": 2048000,
      "rowLimit": 10000
     },
     "inputWidgets": {},
     "nuid": "70757ba4-5745-488f-a4de-09861e6c0af5",
     "showTitle": false,
     "tableResultSettingsMap": {},
     "title": ""
    }
   },
   "outputs": [],
   "source": [
    "userDF = spark.read.format(\"parquet\").option(\"header\", \"true\").option(\"inferSchema\", \"true\").load(\"/mnt/ecommerce/users-raw-2\")"
   ]
  },
  {
   "cell_type": "code",
   "execution_count": 0,
   "metadata": {
    "application/vnd.databricks.v1+cell": {
     "cellMetadata": {
      "byteLimit": 2048000,
      "rowLimit": 10000
     },
     "inputWidgets": {},
     "nuid": "e450c1a0-2c68-49cb-8c68-2c668d02898a",
     "showTitle": false,
     "tableResultSettingsMap": {},
     "title": ""
    }
   },
   "outputs": [
    {
     "name": "stdout",
     "output_type": "stream",
     "text": [
      "+--------------------+----+----------+--------+-----------------+---------------+-------------------+--------------+------------+----------------+--------------+--------------+------+----------------+-------------+---------+-------------+---------+-----------------+------------------+---------+-----------------+----------------+-----------+\n",
      "|      identifierHash|type|   country|language|socialNbFollowers|socialNbFollows|socialProductsLiked|productsListed|productsSold|productsPassRate|productsWished|productsBought|gender|civilityGenderId|civilityTitle|hasAnyApp|hasAndroidApp|hasIosApp|hasProfilePicture|daysSinceLastLogin|seniority|seniorityAsMonths|seniorityAsYears|countryCode|\n",
      "+--------------------+----+----------+--------+-----------------+---------------+-------------------+--------------+------------+----------------+--------------+--------------+------+----------------+-------------+---------+-------------+---------+-----------------+------------------+---------+-----------------+----------------+-----------+\n",
      "|-7279641312655250028|user|Etats-Unis|      en|                3|              8|                  0|             0|           0|             0.0|             0|             0|     F|               2|          mrs|    False|        False|    False|             True|               709|     3205|           106.83|             8.9|         us|\n",
      "|-1456013578740053406|user| Allemagne|      de|                3|              8|                  0|             0|           0|             0.0|             0|             0|     F|               2|          mrs|    False|        False|    False|             True|               709|     3205|           106.83|             8.9|         de|\n",
      "| 9006282053848196165|user|     Suède|      en|                3|              8|                  0|             0|           0|             0.0|             0|             0|     M|               1|           mr|     True|        False|     True|             True|               689|     3205|           106.83|             8.9|         se|\n",
      "|-7154634866120535654|user|   Turquie|      en|                3|              8|                  0|             0|           0|             0.0|             0|             0|     F|               2|          mrs|    False|        False|    False|             True|               709|     3205|           106.83|             8.9|         tr|\n",
      "| 2858299215060733023|user|    France|      en|                3|              8|                  0|             0|           0|             0.0|             0|             0|     M|               1|           mr|     True|        False|     True|             True|               709|     3205|           106.83|             8.9|         fr|\n",
      "+--------------------+----+----------+--------+-----------------+---------------+-------------------+--------------+------------+----------------+--------------+--------------+------+----------------+-------------+---------+-------------+---------+-----------------+------------------+---------+-----------------+----------------+-----------+\n",
      "only showing top 5 rows\n",
      "\n",
      "root\n",
      " |-- identifierHash: string (nullable = true)\n",
      " |-- type: string (nullable = true)\n",
      " |-- country: string (nullable = true)\n",
      " |-- language: string (nullable = true)\n",
      " |-- socialNbFollowers: string (nullable = true)\n",
      " |-- socialNbFollows: string (nullable = true)\n",
      " |-- socialProductsLiked: string (nullable = true)\n",
      " |-- productsListed: string (nullable = true)\n",
      " |-- productsSold: string (nullable = true)\n",
      " |-- productsPassRate: string (nullable = true)\n",
      " |-- productsWished: string (nullable = true)\n",
      " |-- productsBought: string (nullable = true)\n",
      " |-- gender: string (nullable = true)\n",
      " |-- civilityGenderId: string (nullable = true)\n",
      " |-- civilityTitle: string (nullable = true)\n",
      " |-- hasAnyApp: string (nullable = true)\n",
      " |-- hasAndroidApp: string (nullable = true)\n",
      " |-- hasIosApp: string (nullable = true)\n",
      " |-- hasProfilePicture: string (nullable = true)\n",
      " |-- daysSinceLastLogin: string (nullable = true)\n",
      " |-- seniority: string (nullable = true)\n",
      " |-- seniorityAsMonths: string (nullable = true)\n",
      " |-- seniorityAsYears: string (nullable = true)\n",
      " |-- countryCode: string (nullable = true)\n",
      "\n"
     ]
    }
   ],
   "source": [
    "userDF.show(5)\n",
    "userDF.printSchema()"
   ]
  },
  {
   "cell_type": "code",
   "execution_count": 0,
   "metadata": {
    "application/vnd.databricks.v1+cell": {
     "cellMetadata": {
      "byteLimit": 2048000,
      "rowLimit": 10000
     },
     "inputWidgets": {},
     "nuid": "41c5083d-dcef-4a6b-8155-15910776b356",
     "showTitle": false,
     "tableResultSettingsMap": {},
     "title": ""
    }
   },
   "outputs": [],
   "source": [
    "userDF.write.format(\"delta\").mode(\"overwrite\").save(\"/mnt/delta/tables/bronze/users\")"
   ]
  },
  {
   "cell_type": "markdown",
   "metadata": {
    "application/vnd.databricks.v1+cell": {
     "cellMetadata": {},
     "inputWidgets": {},
     "nuid": "cf538563-6067-4e18-8ac7-cda6e5593829",
     "showTitle": false,
     "tableResultSettingsMap": {},
     "title": ""
    }
   },
   "source": [
    "## Country"
   ]
  },
  {
   "cell_type": "code",
   "execution_count": 0,
   "metadata": {
    "application/vnd.databricks.v1+cell": {
     "cellMetadata": {
      "byteLimit": 2048000,
      "rowLimit": 10000
     },
     "inputWidgets": {},
     "nuid": "962f67da-887a-430e-84c9-bc7160c77b4f",
     "showTitle": false,
     "tableResultSettingsMap": {},
     "title": ""
    }
   },
   "outputs": [],
   "source": [
    "countryDF = spark.read.format(\"parquet\").option(\"header\", \"true\").option(\"inferSchema\", \"true\").load(\"/mnt/ecommerce/countries-raw-2\")"
   ]
  },
  {
   "cell_type": "code",
   "execution_count": 0,
   "metadata": {
    "application/vnd.databricks.v1+cell": {
     "cellMetadata": {
      "byteLimit": 2048000,
      "rowLimit": 10000
     },
     "inputWidgets": {},
     "nuid": "98888cc9-e6d1-4abc-b9f6-06802ee75c3c",
     "showTitle": false,
     "tableResultSettingsMap": {},
     "title": ""
    }
   },
   "outputs": [
    {
     "name": "stdout",
     "output_type": "stream",
     "text": [
      "+---------+-------+----------+--------------+------------------+---------------------+-------------+-----------+----------------+--------------+----------------+-------------+--------------------+-----------------+----------------------+-------------------+-------------------+---------------------+--------------------+--------------------+---------------+------------------+-------------+-------------+----------------+----------------+\n",
      "|  country|sellers|topsellers|topsellerratio|femalesellersratio|topfemalesellersratio|femalesellers|malesellers|topfemalesellers|topmalesellers|countrysoldratio|bestsoldratio|toptotalproductssold|totalproductssold|toptotalproductslisted|totalproductslisted|topmeanproductssold|topmeanproductslisted|    meanproductssold|  meanproductslisted|meanofflinedays|topmeanofflinedays|meanfollowers|meanfollowing|topmeanfollowers|topmeanfollowing|\n",
      "+---------+-------+----------+--------------+------------------+---------------------+-------------+-----------+----------------+--------------+----------------+-------------+--------------------+-----------------+----------------------+-------------------+-------------------+---------------------+--------------------+--------------------+---------------+------------------+-------------+-------------+----------------+----------------+\n",
      "|   Taiwan|      1|         1|         100.0|             100.0|                100.0|            1|          0|               1|             0|            1.02|         1.02|                  57|               57|                    56|                 56|               57.0|                 56.0|                57.0|                56.0|           11.0|              11.0|         83.0|          8.0|            83.0|             8.0|\n",
      "|Slovaquie|      2|         1|          50.0|               0.0|                  0.0|            0|          2|               0|             1|             2.0|         1.93|                  27|               28|                    14|                 14|               27.0|                 14.0|                14.0|                 7.0|           17.0|              15.0|         10.5|          8.5|            15.0|             8.0|\n",
      "| Lettonie|      4|         2|          50.0|             100.0|                100.0|            4|          0|               2|             0|            2.31|         2.25|                  81|               83|                    36|                 36|               40.5|                 18.0|               20.75|                 9.0|          120.3|              11.5|         21.0|         52.3|            38.0|            98.5|\n",
      "| Bulgarie|      9|         4|          44.4|              66.7|                100.0|            6|          3|               4|             0|            2.07|          2.1|                 145|              170|                    69|                 82|              36.25|                17.25|18.88888888888888...|9.111111111111111...|           98.3|              19.0|         28.6|         31.6|            46.3|            19.0|\n",
      "|   Chypre|      4|         1|          25.0|             100.0|                100.0|            4|          0|               1|             0|            0.69|         0.62|                  41|               56|                    66|                 81|               41.0|                 66.0|                14.0|               20.25|           17.3|              11.0|         21.3|         10.3|            39.0|            17.0|\n",
      "+---------+-------+----------+--------------+------------------+---------------------+-------------+-----------+----------------+--------------+----------------+-------------+--------------------+-----------------+----------------------+-------------------+-------------------+---------------------+--------------------+--------------------+---------------+------------------+-------------+-------------+----------------+----------------+\n",
      "only showing top 5 rows\n",
      "\n",
      "root\n",
      " |-- country: string (nullable = true)\n",
      " |-- sellers: string (nullable = true)\n",
      " |-- topsellers: string (nullable = true)\n",
      " |-- topsellerratio: string (nullable = true)\n",
      " |-- femalesellersratio: string (nullable = true)\n",
      " |-- topfemalesellersratio: string (nullable = true)\n",
      " |-- femalesellers: string (nullable = true)\n",
      " |-- malesellers: string (nullable = true)\n",
      " |-- topfemalesellers: string (nullable = true)\n",
      " |-- topmalesellers: string (nullable = true)\n",
      " |-- countrysoldratio: string (nullable = true)\n",
      " |-- bestsoldratio: string (nullable = true)\n",
      " |-- toptotalproductssold: string (nullable = true)\n",
      " |-- totalproductssold: string (nullable = true)\n",
      " |-- toptotalproductslisted: string (nullable = true)\n",
      " |-- totalproductslisted: string (nullable = true)\n",
      " |-- topmeanproductssold: string (nullable = true)\n",
      " |-- topmeanproductslisted: string (nullable = true)\n",
      " |-- meanproductssold: string (nullable = true)\n",
      " |-- meanproductslisted: string (nullable = true)\n",
      " |-- meanofflinedays: string (nullable = true)\n",
      " |-- topmeanofflinedays: string (nullable = true)\n",
      " |-- meanfollowers: string (nullable = true)\n",
      " |-- meanfollowing: string (nullable = true)\n",
      " |-- topmeanfollowers: string (nullable = true)\n",
      " |-- topmeanfollowing: string (nullable = true)\n",
      "\n"
     ]
    }
   ],
   "source": [
    "countryDF.show(5)\n",
    "countryDF.printSchema()"
   ]
  },
  {
   "cell_type": "code",
   "execution_count": 0,
   "metadata": {
    "application/vnd.databricks.v1+cell": {
     "cellMetadata": {
      "byteLimit": 2048000,
      "rowLimit": 10000
     },
     "inputWidgets": {},
     "nuid": "3b373396-b3ed-4ce2-80b7-6549d69350ea",
     "showTitle": false,
     "tableResultSettingsMap": {},
     "title": ""
    }
   },
   "outputs": [],
   "source": [
    "countryDF.write.format(\"delta\").mode(\"overwrite\").save(\"/mnt/delta/tables/bronze/countries\")"
   ]
  },
  {
   "cell_type": "markdown",
   "metadata": {
    "application/vnd.databricks.v1+cell": {
     "cellMetadata": {},
     "inputWidgets": {},
     "nuid": "45deb1f9-65a5-4c74-a3a3-651e7f1c1c58",
     "showTitle": false,
     "tableResultSettingsMap": {},
     "title": ""
    }
   },
   "source": [
    "## Sellers"
   ]
  },
  {
   "cell_type": "code",
   "execution_count": 0,
   "metadata": {
    "application/vnd.databricks.v1+cell": {
     "cellMetadata": {
      "byteLimit": 2048000,
      "rowLimit": 10000
     },
     "inputWidgets": {},
     "nuid": "850e0c46-6bd5-4884-93d9-6b7b5b805410",
     "showTitle": false,
     "tableResultSettingsMap": {},
     "title": ""
    }
   },
   "outputs": [],
   "source": [
    "sellerDF = spark.read.format(\"parquet\").option(\"header\", \"true\").option(\"inferSchema\", \"true\").load(\"/mnt/ecommerce/sellers-raw-2\")"
   ]
  },
  {
   "cell_type": "code",
   "execution_count": 0,
   "metadata": {
    "application/vnd.databricks.v1+cell": {
     "cellMetadata": {
      "byteLimit": 2048000,
      "rowLimit": 10000
     },
     "inputWidgets": {},
     "nuid": "a1e66154-96ab-49df-b9b2-c181cd1aa8f2",
     "showTitle": false,
     "tableResultSettingsMap": {},
     "title": ""
    }
   },
   "outputs": [
    {
     "name": "stdout",
     "output_type": "stream",
     "text": [
      "+---------+------+---------+----------------+------------------+------------------+-----------------+-------------------+------------------+------------------+-----------------+-----------+-----------+------------------+-------------+-----------+-----------------+-----------------+------------------+\n",
      "|  country|   sex|nbsellers|meanproductssold|meanproductslisted|meansellerpassrate|totalproductssold|totalproductslisted|meanproductsbought|meanproductswished|meanproductsliked|totalbought|totalwished|totalproductsliked|meanfollowers|meanfollows|percentofappusers|percentofiosusers|     meanseniority|\n",
      "+---------+------+---------+----------------+------------------+------------------+-----------------+-------------------+------------------+------------------+-----------------+-----------+-----------+------------------+-------------+-----------+-----------------+-----------------+------------------+\n",
      "|Allemagne|Female|      116|            4.03|              2.72|             27.33|              468|                315|              3.05|             34.66|            35.28|        354|       4021|              4092|          9.5|        8.9|             54.0|             49.0|3060.3362068965516|\n",
      "|Allemagne|  Male|       34|             2.0|               1.0|             19.15|               68|                 34|              1.62|              3.38|            31.79|         55|        115|              1081|          7.8|        8.4|             79.0|             64.0|3089.0588235294117|\n",
      "|  Arménie|Female|        1|             0.0|              25.0|               0.0|                0|                 25|               0.0|               0.0|              1.0|          0|          0|                 1|          4.0|        8.0|             NULL|             NULL|            3201.0|\n",
      "|Australie|Female|       18|            0.94|              1.33|             10.44|               17|                 24|              6.11|             17.72|           209.28|        110|        319|              3767|          7.5|        9.3|             55.0|             55.0|3103.6666666666665|\n",
      "|Australie|  Male|        3|             6.0|               4.0|             33.33|               18|                 12|               8.0|              24.0|            38.33|         24|         72|               115|         12.7|        8.3|             66.0|             66.0|3085.6666666666665|\n",
      "+---------+------+---------+----------------+------------------+------------------+-----------------+-------------------+------------------+------------------+-----------------+-----------+-----------+------------------+-------------+-----------+-----------------+-----------------+------------------+\n",
      "only showing top 5 rows\n",
      "\n",
      "root\n",
      " |-- country: string (nullable = true)\n",
      " |-- sex: string (nullable = true)\n",
      " |-- nbsellers: string (nullable = true)\n",
      " |-- meanproductssold: string (nullable = true)\n",
      " |-- meanproductslisted: string (nullable = true)\n",
      " |-- meansellerpassrate: string (nullable = true)\n",
      " |-- totalproductssold: string (nullable = true)\n",
      " |-- totalproductslisted: string (nullable = true)\n",
      " |-- meanproductsbought: string (nullable = true)\n",
      " |-- meanproductswished: string (nullable = true)\n",
      " |-- meanproductsliked: string (nullable = true)\n",
      " |-- totalbought: string (nullable = true)\n",
      " |-- totalwished: string (nullable = true)\n",
      " |-- totalproductsliked: string (nullable = true)\n",
      " |-- meanfollowers: string (nullable = true)\n",
      " |-- meanfollows: string (nullable = true)\n",
      " |-- percentofappusers: string (nullable = true)\n",
      " |-- percentofiosusers: string (nullable = true)\n",
      " |-- meanseniority: string (nullable = true)\n",
      "\n"
     ]
    }
   ],
   "source": [
    "sellerDF.show(5)\n",
    "sellerDF.printSchema()"
   ]
  },
  {
   "cell_type": "code",
   "execution_count": 0,
   "metadata": {
    "application/vnd.databricks.v1+cell": {
     "cellMetadata": {
      "byteLimit": 2048000,
      "rowLimit": 10000
     },
     "inputWidgets": {},
     "nuid": "c5b70fdf-3d36-4e9d-9aaa-a00cfbc68bd2",
     "showTitle": false,
     "tableResultSettingsMap": {},
     "title": ""
    }
   },
   "outputs": [],
   "source": [
    "sellerDF.write.format(\"delta\").mode(\"overwrite\").save(\"/mnt/delta/tables/bronze/sellers\")"
   ]
  },
  {
   "cell_type": "markdown",
   "metadata": {
    "application/vnd.databricks.v1+cell": {
     "cellMetadata": {},
     "inputWidgets": {},
     "nuid": "6a30d003-746a-4573-a6c7-7aae47ff9498",
     "showTitle": false,
     "tableResultSettingsMap": {},
     "title": ""
    }
   },
   "source": [
    "## Buyers"
   ]
  },
  {
   "cell_type": "code",
   "execution_count": 0,
   "metadata": {
    "application/vnd.databricks.v1+cell": {
     "cellMetadata": {
      "byteLimit": 2048000,
      "rowLimit": 10000
     },
     "inputWidgets": {},
     "nuid": "79d7c13d-e7ce-4bf2-b0ad-50357f48fc47",
     "showTitle": false,
     "tableResultSettingsMap": {},
     "title": ""
    }
   },
   "outputs": [],
   "source": [
    "buyerDF = spark.read.format(\"parquet\").option(\"header\", \"true\").option(\"inferSchema\", \"true\").load(\"/mnt/ecommerce/buyers-raw-2\")"
   ]
  },
  {
   "cell_type": "code",
   "execution_count": 0,
   "metadata": {
    "application/vnd.databricks.v1+cell": {
     "cellMetadata": {
      "byteLimit": 2048000,
      "rowLimit": 10000
     },
     "inputWidgets": {},
     "nuid": "b5a358e1-9f57-4cab-a4c7-50447097aeb5",
     "showTitle": false,
     "tableResultSettingsMap": {},
     "title": ""
    }
   },
   "outputs": [
    {
     "name": "stdout",
     "output_type": "stream",
     "text": [
      "+-----------+------+---------+-------------+------------+----------+---------------+-------------+-----------------+--------------------+----------------------+------------------+-------------------------+---------------------+-------------------+-------------------+------------------+----------------------+----------------------+---------------------+------------------+------------------+-----------------+---------------------+---------------------+--------------------+---------------+------------------+-------------+-------------+----------------+----------------+\n",
      "|    country|buyers|topbuyers|topbuyerratio|femalebuyers|malebuyers|topfemalebuyers|topmalebuyers|femalebuyersratio|topfemalebuyersratio|boughtperwishlistratio|boughtperlikeratio|topboughtperwishlistratio|topboughtperlikeratio|totalproductsbought|totalproductswished|totalproductsliked|toptotalproductsbought|toptotalproductswished|toptotalproductsliked|meanproductsbought|meanproductswished|meanproductsliked|topmeanproductsbought|topmeanproductswished|topmeanproductsliked|meanofflinedays|topmeanofflinedays|meanfollowers|meanfollowing|topmeanfollowers|topmeanfollowing|\n",
      "+-----------+------+---------+-------------+------------+----------+---------------+-------------+-----------------+--------------------+----------------------+------------------+-------------------------+---------------------+-------------------+-------------------+------------------+----------------------+----------------------+---------------------+------------------+------------------+-----------------+---------------------+---------------------+--------------------+---------------+------------------+-------------+-------------+----------------+----------------+\n",
      "|     France|  1251|       53|          4.2|         851|       400|             33|           20|             68.0|                62.3|                 26.08|             14.15|                    36.37|                23.21|               3573|              13700|             25249|                  1487|                  4089|                 6406|               2.9|              11.0|             20.2|                 28.1|                 77.2|               120.9|          321.8|              75.0|          4.8|          8.8|            10.1|            11.0|\n",
      "|Royaume-Uni|   792|       38|          4.8|         560|       232|             30|            8|             70.7|                78.9|                 14.97|               9.3|                    13.93|                11.59|               2174|              14524|             23378|                   853|                  6124|                 7362|               2.7|              18.3|             29.5|                 22.4|                161.2|               193.7|          298.3|              68.2|          5.4|          8.8|            11.1|            12.2|\n",
      "| Etats-Unis|   912|       31|          3.4|         700|       212|             21|           10|             76.8|                67.7|                 21.84|              7.92|                    23.35|                12.44|               2370|              10852|             29917|                   864|                  3701|                 6946|               2.6|              11.9|             32.8|                 27.9|                119.4|               224.1|          359.3|              73.0|          4.9|          9.7|            11.7|            27.9|\n",
      "|  Allemagne|   578|       29|          5.0|         409|       169|             21|            8|             70.8|                72.4|                 13.91|              6.88|                    10.13|                 4.85|               1635|              11758|             23761|                   516|                  5096|                10648|               2.8|              20.3|             41.1|                 17.8|                175.7|               367.2|          296.6|              39.3|          5.1|          8.6|            11.2|            11.3|\n",
      "|     Italie|   400|       21|          5.3|         283|       117|             14|            7|             70.8|                66.7|                 12.56|               8.6|                    11.86|                23.91|               1221|               9720|             14200|                   519|                  4376|                 2171|               3.1|              24.3|             35.5|                 24.7|                208.4|               103.4|          247.9|              40.9|          6.4|         11.6|            14.3|            15.4|\n",
      "+-----------+------+---------+-------------+------------+----------+---------------+-------------+-----------------+--------------------+----------------------+------------------+-------------------------+---------------------+-------------------+-------------------+------------------+----------------------+----------------------+---------------------+------------------+------------------+-----------------+---------------------+---------------------+--------------------+---------------+------------------+-------------+-------------+----------------+----------------+\n",
      "only showing top 5 rows\n",
      "\n",
      "root\n",
      " |-- country: string (nullable = true)\n",
      " |-- buyers: string (nullable = true)\n",
      " |-- topbuyers: string (nullable = true)\n",
      " |-- topbuyerratio: string (nullable = true)\n",
      " |-- femalebuyers: string (nullable = true)\n",
      " |-- malebuyers: string (nullable = true)\n",
      " |-- topfemalebuyers: string (nullable = true)\n",
      " |-- topmalebuyers: string (nullable = true)\n",
      " |-- femalebuyersratio: string (nullable = true)\n",
      " |-- topfemalebuyersratio: string (nullable = true)\n",
      " |-- boughtperwishlistratio: string (nullable = true)\n",
      " |-- boughtperlikeratio: string (nullable = true)\n",
      " |-- topboughtperwishlistratio: string (nullable = true)\n",
      " |-- topboughtperlikeratio: string (nullable = true)\n",
      " |-- totalproductsbought: string (nullable = true)\n",
      " |-- totalproductswished: string (nullable = true)\n",
      " |-- totalproductsliked: string (nullable = true)\n",
      " |-- toptotalproductsbought: string (nullable = true)\n",
      " |-- toptotalproductswished: string (nullable = true)\n",
      " |-- toptotalproductsliked: string (nullable = true)\n",
      " |-- meanproductsbought: string (nullable = true)\n",
      " |-- meanproductswished: string (nullable = true)\n",
      " |-- meanproductsliked: string (nullable = true)\n",
      " |-- topmeanproductsbought: string (nullable = true)\n",
      " |-- topmeanproductswished: string (nullable = true)\n",
      " |-- topmeanproductsliked: string (nullable = true)\n",
      " |-- meanofflinedays: string (nullable = true)\n",
      " |-- topmeanofflinedays: string (nullable = true)\n",
      " |-- meanfollowers: string (nullable = true)\n",
      " |-- meanfollowing: string (nullable = true)\n",
      " |-- topmeanfollowers: string (nullable = true)\n",
      " |-- topmeanfollowing: string (nullable = true)\n",
      "\n"
     ]
    }
   ],
   "source": [
    "buyerDF.show(5)\n",
    "buyerDF.printSchema()"
   ]
  },
  {
   "cell_type": "code",
   "execution_count": 0,
   "metadata": {
    "application/vnd.databricks.v1+cell": {
     "cellMetadata": {
      "byteLimit": 2048000,
      "rowLimit": 10000
     },
     "inputWidgets": {},
     "nuid": "81aa7c7a-e102-4754-9ee6-4a8a69359e25",
     "showTitle": false,
     "tableResultSettingsMap": {},
     "title": ""
    }
   },
   "outputs": [],
   "source": [
    "buyerDF.write.format(\"delta\").mode(\"overwrite\").save(\"/mnt/delta/tables/bronze/buyers\")"
   ]
  }
 ],
 "metadata": {
  "application/vnd.databricks.v1+notebook": {
   "computePreferences": null,
   "dashboards": [],
   "environmentMetadata": {
    "base_environment": "",
    "environment_version": "2"
   },
   "language": "python",
   "notebookMetadata": {
    "mostRecentlyExecutedCommandWithImplicitDF": {
     "commandId": 3278471325560632,
     "dataframes": [
      "_sqldf"
     ]
    },
    "pythonIndentUnit": 4
   },
   "notebookName": "Ecommerce Bronze Layer",
   "widgets": {}
  },
  "language_info": {
   "name": "python"
  }
 },
 "nbformat": 4,
 "nbformat_minor": 0
}
