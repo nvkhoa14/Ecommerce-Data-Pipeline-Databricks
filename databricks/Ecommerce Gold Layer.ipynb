{
 "cells": [
  {
   "cell_type": "code",
   "execution_count": 0,
   "metadata": {
    "application/vnd.databricks.v1+cell": {
     "cellMetadata": {
      "byteLimit": 2048000,
      "rowLimit": 10000
     },
     "inputWidgets": {},
     "nuid": "1cf58778-398c-4f1a-84e3-f57f21605c72",
     "showTitle": false,
     "tableResultSettingsMap": {},
     "title": ""
    }
   },
   "outputs": [],
   "source": [
    "from pyspark.sql import SparkSession\n",
    "from pyspark.sql.functions import sum, avg, col,monotonically_increasing_id \n",
    "\n",
    "spark = SparkSession.builder.appName(\"Gold Layer\").getOrCreate()"
   ]
  },
  {
   "cell_type": "code",
   "execution_count": 0,
   "metadata": {
    "application/vnd.databricks.v1+cell": {
     "cellMetadata": {
      "byteLimit": 2048000,
      "rowLimit": 10000
     },
     "inputWidgets": {},
     "nuid": "a37c522b-6a74-4762-896e-a513369f05fa",
     "showTitle": false,
     "tableResultSettingsMap": {},
     "title": ""
    }
   },
   "outputs": [],
   "source": [
    "silver_sellers = spark.read.format(\"delta\").load(\"/mnt/delta/tables/silver/sellers\")\n",
    "silver_buyers = spark.read.format(\"delta\").load(\"/mnt/delta/tables/silver/buyers\")\n",
    "silver_users = spark.read.format(\"delta\").load(\"/mnt/delta/tables/silver/users\")\n",
    "silver_countries = spark.read.format(\"delta\").load(\"/mnt/delta/tables/silver/countries\")"
   ]
  },
  {
   "cell_type": "code",
   "execution_count": 0,
   "metadata": {
    "application/vnd.databricks.v1+cell": {
     "cellMetadata": {
      "byteLimit": 2048000,
      "rowLimit": 10000
     },
     "inputWidgets": {},
     "nuid": "cbb6ed67-de34-4b24-9521-8825aee778ab",
     "showTitle": false,
     "tableResultSettingsMap": {},
     "title": ""
    }
   },
   "outputs": [],
   "source": [
    "# Perform the join operations\n",
    "comprehensive_user_table = silver_users \\\n",
    "    .join(silver_countries, [\"country\"], \"outer\") \\\n",
    "    .join(silver_buyers, [\"country\"], \"outer\") \\\n",
    "    .join(silver_sellers, [\"country\"], \"outer\")\n",
    "\n",
    "# Select and alias columns from each dataframe to ensure uniqueness\n",
    "comprehensive_user_table = comprehensive_user_table.select(\n",
    "    silver_users[\"country\"].alias(\"Country\"),\n",
    "    # From silver_users\n",
    "    silver_users[\"productsSold\"].alias(\"Users_productsSold\"),\n",
    "    silver_users[\"productsWished\"].alias(\"Users_productsWished\"),\n",
    "    silver_users[\"seniorityasyears\"].alias(\"Users_account_age_years\"),\n",
    "    silver_users[\"account_age_group\"].alias(\"Users_account_age_group\"),\n",
    "    silver_users[\"hasanyapp\"].alias(\"Users_hasanyapp\"),\n",
    "    silver_users[\"socialnbfollowers\"].alias(\"Users_socialnbfollowers\"),\n",
    "    \n",
    "    # From silver_countries\n",
    "    silver_countries[\"sellers\"].alias(\"Countries_Sellers\"),\n",
    "    silver_countries[\"topsellers\"].alias(\"Countries_TopSellers\"),\n",
    "    silver_countries[\"femalesellers\"].alias(\"Countries_FemaleSellers\"),\n",
    "    silver_countries[\"malesellers\"].alias(\"Countries_MaleSellers\"),\n",
    "    silver_countries[\"topfemalesellers\"].alias(\"Countries_TopFemaleSellers\"),\n",
    "    silver_countries[\"topmalesellers\"].alias(\"Countries_TopMaleSellers\"),\n",
    "    \n",
    "    # From silver_buyers\n",
    "    silver_buyers[\"buyers\"].alias(\"Buyers_Total\"),\n",
    "    silver_buyers[\"topbuyers\"].alias(\"Buyers_Top\"),\n",
    "    silver_buyers[\"femalebuyers\"].alias(\"Buyers_Female\"),\n",
    "    silver_buyers[\"malebuyers\"].alias(\"Buyers_Male\"),\n",
    "    silver_buyers[\"topfemalebuyers\"].alias(\"Buyers_TopFemale\"),\n",
    "    silver_buyers[\"topmalebuyers\"].alias(\"Buyers_TopMale\"),\n",
    "    \n",
    "    # From silver_sellers\n",
    "    silver_sellers[\"nbsellers\"].alias(\"Sellers_Total\"),\n",
    "    silver_sellers[\"sex\"].alias(\"Sellers_Sex\"),\n",
    "    silver_sellers[\"meanproductssold\"].alias(\"Sellers_MeanProductsSold\"),\n",
    "    silver_sellers[\"meanproductslisted\"].alias(\"Sellers_MeanProductsListed\"),\n",
    ")\n"
   ]
  },
  {
   "cell_type": "code",
   "execution_count": 0,
   "metadata": {
    "application/vnd.databricks.v1+cell": {
     "cellMetadata": {
      "byteLimit": 2048000,
      "rowLimit": 10000
     },
     "inputWidgets": {},
     "nuid": "e63880ae-0d9a-4fd1-9756-67fe9e1b4dbd",
     "showTitle": false,
     "tableResultSettingsMap": {},
     "title": ""
    }
   },
   "outputs": [
    {
     "output_type": "stream",
     "name": "stdout",
     "output_type": "stream",
     "text": [
      "+---------+------------------+--------------------+-----------------------+-----------------------+---------------+-----------------------+-----------------+--------------------+-----------------------+---------------------+--------------------------+------------------------+------------+----------+-------------+-----------+----------------+--------------+-------------+-----------+------------------------+--------------------------+\n|  Country|Users_productsSold|Users_productsWished|Users_account_age_years|Users_account_age_group|Users_hasanyapp|Users_socialnbfollowers|Countries_Sellers|Countries_TopSellers|Countries_FemaleSellers|Countries_MaleSellers|Countries_TopFemaleSellers|Countries_TopMaleSellers|Buyers_Total|Buyers_Top|Buyers_Female|Buyers_Male|Buyers_TopFemale|Buyers_TopMale|Sellers_Total|Sellers_Sex|Sellers_MeanProductsSold|Sellers_MeanProductsListed|\n+---------+------------------+--------------------+-----------------------+-----------------------+---------------+-----------------------+-----------------+--------------------+-----------------------+---------------------+--------------------------+------------------------+------------+----------+-------------+-----------+----------------+--------------+-------------+-----------+------------------------+--------------------------+\n|Singapour|                 0|                   2|                   8.90|                 Senior|          false|                      4|             NULL|                NULL|                   NULL|                 NULL|                      NULL|                    NULL|          16|         1|           12|          4|               0|             1|            5|     FEMALE|                    2.20|                      1.60|\n|Singapour|                 0|                   0|                   8.90|                 Senior|          false|                      3|             NULL|                NULL|                   NULL|                 NULL|                      NULL|                    NULL|          16|         1|           12|          4|               0|             1|            5|     FEMALE|                    2.20|                      1.60|\n|Singapour|                 0|                   0|                   8.90|                 Senior|          false|                      3|             NULL|                NULL|                   NULL|                 NULL|                      NULL|                    NULL|          16|         1|           12|          4|               0|             1|            5|     FEMALE|                    2.20|                      1.60|\n|Singapour|                 0|                   0|                   8.90|                 Senior|          false|                      3|             NULL|                NULL|                   NULL|                 NULL|                      NULL|                    NULL|          16|         1|           12|          4|               0|             1|            5|     FEMALE|                    2.20|                      1.60|\n|Singapour|                 0|                   0|                   8.90|                 Senior|          false|                      3|             NULL|                NULL|                   NULL|                 NULL|                      NULL|                    NULL|          16|         1|           12|          4|               0|             1|            5|     FEMALE|                    2.20|                      1.60|\n+---------+------------------+--------------------+-----------------------+-----------------------+---------------+-----------------------+-----------------+--------------------+-----------------------+---------------------+--------------------------+------------------------+------------+----------+-------------+-----------+----------------+--------------+-------------+-----------+------------------------+--------------------------+\nonly showing top 5 rows\n\n"
     ]
    }
   ],
   "source": [
    "comprehensive_user_table.show(5)"
   ]
  },
  {
   "cell_type": "code",
   "execution_count": 0,
   "metadata": {
    "application/vnd.databricks.v1+cell": {
     "cellMetadata": {
      "byteLimit": 2048000,
      "rowLimit": 10000
     },
     "inputWidgets": {},
     "nuid": "3653d814-2410-4586-b0cb-921b4a663c09",
     "showTitle": false,
     "tableResultSettingsMap": {},
     "title": ""
    }
   },
   "outputs": [
    {
     "output_type": "stream",
     "name": "stdout",
     "output_type": "stream",
     "text": [
      "root\n |-- Country: string (nullable = true)\n |-- Users_productsSold: integer (nullable = true)\n |-- Users_productsWished: integer (nullable = true)\n |-- Users_account_age_years: decimal(10,2) (nullable = true)\n |-- Users_account_age_group: string (nullable = true)\n |-- Users_hasanyapp: boolean (nullable = true)\n |-- Users_socialnbfollowers: integer (nullable = true)\n |-- Countries_Sellers: integer (nullable = true)\n |-- Countries_TopSellers: integer (nullable = true)\n |-- Countries_FemaleSellers: integer (nullable = true)\n |-- Countries_MaleSellers: integer (nullable = true)\n |-- Countries_TopFemaleSellers: integer (nullable = true)\n |-- Countries_TopMaleSellers: integer (nullable = true)\n |-- Buyers_Total: integer (nullable = true)\n |-- Buyers_Top: integer (nullable = true)\n |-- Buyers_Female: integer (nullable = true)\n |-- Buyers_Male: integer (nullable = true)\n |-- Buyers_TopFemale: integer (nullable = true)\n |-- Buyers_TopMale: integer (nullable = true)\n |-- Sellers_Total: integer (nullable = true)\n |-- Sellers_Sex: string (nullable = true)\n |-- Sellers_MeanProductsSold: decimal(10,2) (nullable = true)\n |-- Sellers_MeanProductsListed: decimal(10,2) (nullable = true)\n\n"
     ]
    }
   ],
   "source": [
    "comprehensive_user_table.printSchema()"
   ]
  },
  {
   "cell_type": "code",
   "execution_count": 0,
   "metadata": {
    "application/vnd.databricks.v1+cell": {
     "cellMetadata": {
      "byteLimit": 2048000,
      "rowLimit": 10000
     },
     "inputWidgets": {},
     "nuid": "9626067a-8363-4ae2-9ee2-51b3fa00b6ab",
     "showTitle": false,
     "tableResultSettingsMap": {},
     "title": ""
    }
   },
   "outputs": [],
   "source": [
    "comprehensive_user_table.write.format(\"delta\").mode(\"overwrite\").save(\"/mnt/delta/tables/goldecom_one_big_table\")"
   ]
  }
 ],
 "metadata": {
  "application/vnd.databricks.v1+notebook": {
   "computePreferences": null,
   "dashboards": [],
   "environmentMetadata": {
    "base_environment": "",
    "environment_version": "2"
   },
   "language": "python",
   "notebookMetadata": {
    "pythonIndentUnit": 4
   },
   "notebookName": "Ecommerce Gold Layer",
   "widgets": {}
  },
  "language_info": {
   "name": "python"
  }
 },
 "nbformat": 4,
 "nbformat_minor": 0
}